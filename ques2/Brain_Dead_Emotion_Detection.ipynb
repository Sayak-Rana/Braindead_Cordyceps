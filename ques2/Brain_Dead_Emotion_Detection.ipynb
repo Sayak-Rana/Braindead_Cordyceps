{
  "cells": [
    {
      "cell_type": "code",
      "source": [
        "from google.colab import drive\n",
        "drive.mount('/content/drive')"
      ],
      "metadata": {
        "id": "FgrONDIzdTKt"
      },
      "execution_count": null,
      "outputs": []
    },
    {
      "cell_type": "code",
      "source": [
        "!unzip /content/drive/MyDrive/brain_dead_emotion_detection.zip"
      ],
      "metadata": {
        "id": "T7vZ3QvDd37s"
      },
      "execution_count": null,
      "outputs": []
    },
    {
      "cell_type": "code",
      "source": [
        "import keras\n",
        "from keras.applications import ResNet50, VGG16\n",
        "\n",
        "# Initialize the Pretrained Model\n",
        "feature_extractor = ResNet50(weights='imagenet', \n",
        "                             input_shape=(182, 182, 3),\n",
        "                             include_top=False)\n",
        "\n",
        "# Set this parameter to make sure it's not being trained\n",
        "feature_extractor.trainable = False\n",
        "\n",
        "# Set the input layer\n",
        "input_ = keras.Input(shape=(182, 182, 3))\n",
        "\n",
        "# Set the feature extractor layer\n",
        "x = feature_extractor(input_, training=False)\n",
        "\n",
        "# Set the end layers\n",
        "x = keras.layers.Dropout(0.5)(x)\n",
        "x = keras.layers.Flatten()(x)\n",
        "x = keras.layers.BatchNormalization()(x)\n",
        "x = keras.layers.Dense(32,kernel_initializer='he_uniform')(x)\n",
        "x = keras.layers.Dropout(0.5)(x)\n",
        "x = keras.layers.BatchNormalization()(x)\n",
        "x = keras.layers.Activation('relu')(x)\n",
        "\n",
        "# Set the final layer with softmax activation function\n",
        "output_ = keras.layers.Dense(4, activation='softmax')(x)\n",
        "\n",
        "# Create the new model object\n",
        "model = keras.Model(input_, output_)\n",
        "\n",
        "# Compile it\n",
        "model.compile(optimizer='adam',\n",
        "             loss='categorical_crossentropy',\n",
        "             metrics=['accuracy'])\n",
        "\n",
        "# Print The Summary of The Model\n",
        "model.summary()"
      ],
      "metadata": {
        "id": "HGbeQz4WdOjf",
        "colab": {
          "base_uri": "https://localhost:8080/"
        },
        "outputId": "d0c79695-3788-40af-b52b-9a80eebd7e27"
      },
      "execution_count": 61,
      "outputs": [
        {
          "output_type": "stream",
          "name": "stdout",
          "text": [
            "Model: \"model_4\"\n",
            "_________________________________________________________________\n",
            " Layer (type)                Output Shape              Param #   \n",
            "=================================================================\n",
            " input_10 (InputLayer)       [(None, 182, 182, 3)]     0         \n",
            "                                                                 \n",
            " resnet50 (Functional)       (None, 6, 6, 2048)        23587712  \n",
            "                                                                 \n",
            " dropout_7 (Dropout)         (None, 6, 6, 2048)        0         \n",
            "                                                                 \n",
            " flatten_4 (Flatten)         (None, 73728)             0         \n",
            "                                                                 \n",
            " batch_normalization_8 (Batc  (None, 73728)            294912    \n",
            " hNormalization)                                                 \n",
            "                                                                 \n",
            " dense_8 (Dense)             (None, 32)                2359328   \n",
            "                                                                 \n",
            " dropout_8 (Dropout)         (None, 32)                0         \n",
            "                                                                 \n",
            " batch_normalization_9 (Batc  (None, 32)               128       \n",
            " hNormalization)                                                 \n",
            "                                                                 \n",
            " activation_4 (Activation)   (None, 32)                0         \n",
            "                                                                 \n",
            " dense_9 (Dense)             (None, 4)                 132       \n",
            "                                                                 \n",
            "=================================================================\n",
            "Total params: 26,242,212\n",
            "Trainable params: 2,506,980\n",
            "Non-trainable params: 23,735,232\n",
            "_________________________________________________________________\n"
          ]
        }
      ]
    },
    {
      "cell_type": "code",
      "source": [
        "import numpy as np\n",
        "import cv2\n",
        "import glob\n",
        "from sklearn.utils import shuffle\n",
        "\n",
        "def get_samples(data_type):\n",
        "    X = []\n",
        "    Y = []\n",
        "\n",
        "    angry = '/content/brain_dead_emotion_detection/' + data_type + '/angry/'\n",
        "    sad = '/content/brain_dead_emotion_detection/' + data_type + '/sad/'\n",
        "    happy = '/content/brain_dead_emotion_detection/' + data_type + '/happy/'\n",
        "    neutral = '/content/brain_dead_emotion_detection/' + data_type + '/neutral/'\n",
        "\n",
        "    paths = [angry, sad, happy, neutral]\n",
        "\n",
        "    for i in range(4):\n",
        "      for file in glob.glob(paths[i] + \"*.png\"):\n",
        "        X.append(np.asarray(cv2.imread(file)))\n",
        "        Y.append([1 if j is i else 0 for j in range(4)])\n",
        "\n",
        "    X = np.array(X)\n",
        "    Y = np.array(Y)\n",
        "\n",
        "    X,Y = shuffle(X,Y)\n",
        "    return X, Y\n",
        "\n",
        "XTrain, YTrain = get_samples(\"Train\")\n",
        "XTest, YTest = get_samples(\"Test\")"
      ],
      "metadata": {
        "id": "dKvsMeEyriS1"
      },
      "execution_count": 63,
      "outputs": []
    },
    {
      "cell_type": "code",
      "source": [
        "model.fit(XTrain, YTrain, epochs=20, validation_data=(XTest, YTest))"
      ],
      "metadata": {
        "id": "n963O1CFdIBS",
        "colab": {
          "base_uri": "https://localhost:8080/"
        },
        "outputId": "1e2c7d82-03ee-4e73-a0a8-4d43313359da"
      },
      "execution_count": 64,
      "outputs": [
        {
          "output_type": "stream",
          "name": "stdout",
          "text": [
            "Epoch 1/20\n",
            "57/57 [==============================] - 12s 115ms/step - loss: 1.1098 - accuracy: 0.5298 - val_loss: 1.1061 - val_accuracy: 0.5827\n",
            "Epoch 2/20\n",
            "57/57 [==============================] - 5s 96ms/step - loss: 0.6849 - accuracy: 0.7967 - val_loss: 0.8454 - val_accuracy: 0.6612\n",
            "Epoch 3/20\n",
            "57/57 [==============================] - 5s 84ms/step - loss: 0.4912 - accuracy: 0.8691 - val_loss: 0.7870 - val_accuracy: 0.6992\n",
            "Epoch 4/20\n",
            "57/57 [==============================] - 5s 94ms/step - loss: 0.3688 - accuracy: 0.9238 - val_loss: 0.7674 - val_accuracy: 0.7046\n",
            "Epoch 5/20\n",
            "57/57 [==============================] - 5s 96ms/step - loss: 0.2812 - accuracy: 0.9436 - val_loss: 0.8047 - val_accuracy: 0.6667\n",
            "Epoch 6/20\n",
            "57/57 [==============================] - 5s 84ms/step - loss: 0.2227 - accuracy: 0.9602 - val_loss: 0.7656 - val_accuracy: 0.6965\n",
            "Epoch 7/20\n",
            "57/57 [==============================] - 5s 95ms/step - loss: 0.2089 - accuracy: 0.9619 - val_loss: 0.7540 - val_accuracy: 0.7182\n",
            "Epoch 8/20\n",
            "57/57 [==============================] - 5s 94ms/step - loss: 0.1774 - accuracy: 0.9652 - val_loss: 0.7810 - val_accuracy: 0.7073\n",
            "Epoch 9/20\n",
            "57/57 [==============================] - 5s 84ms/step - loss: 0.1517 - accuracy: 0.9657 - val_loss: 0.7816 - val_accuracy: 0.7100\n",
            "Epoch 10/20\n",
            "57/57 [==============================] - 5s 97ms/step - loss: 0.1410 - accuracy: 0.9729 - val_loss: 0.7918 - val_accuracy: 0.7182\n",
            "Epoch 11/20\n",
            "57/57 [==============================] - 5s 85ms/step - loss: 0.1199 - accuracy: 0.9751 - val_loss: 0.7991 - val_accuracy: 0.6883\n",
            "Epoch 12/20\n",
            "57/57 [==============================] - 5s 95ms/step - loss: 0.1120 - accuracy: 0.9751 - val_loss: 0.8712 - val_accuracy: 0.6775\n",
            "Epoch 13/20\n",
            "57/57 [==============================] - 5s 85ms/step - loss: 0.0955 - accuracy: 0.9812 - val_loss: 0.8244 - val_accuracy: 0.7046\n",
            "Epoch 14/20\n",
            "57/57 [==============================] - 5s 85ms/step - loss: 0.0902 - accuracy: 0.9867 - val_loss: 0.7979 - val_accuracy: 0.7100\n",
            "Epoch 15/20\n",
            "57/57 [==============================] - 5s 88ms/step - loss: 0.0838 - accuracy: 0.9779 - val_loss: 0.9058 - val_accuracy: 0.6802\n",
            "Epoch 16/20\n",
            "57/57 [==============================] - 5s 85ms/step - loss: 0.0916 - accuracy: 0.9801 - val_loss: 0.8630 - val_accuracy: 0.6938\n",
            "Epoch 17/20\n",
            "57/57 [==============================] - 5s 95ms/step - loss: 0.0827 - accuracy: 0.9818 - val_loss: 0.8682 - val_accuracy: 0.6965\n",
            "Epoch 18/20\n",
            "57/57 [==============================] - 5s 87ms/step - loss: 0.0765 - accuracy: 0.9823 - val_loss: 0.8393 - val_accuracy: 0.7263\n",
            "Epoch 19/20\n",
            "57/57 [==============================] - 5s 95ms/step - loss: 0.0779 - accuracy: 0.9840 - val_loss: 0.8674 - val_accuracy: 0.7073\n",
            "Epoch 20/20\n",
            "57/57 [==============================] - 5s 88ms/step - loss: 0.0787 - accuracy: 0.9785 - val_loss: 0.9258 - val_accuracy: 0.6992\n"
          ]
        },
        {
          "output_type": "execute_result",
          "data": {
            "text/plain": [
              "<keras.callbacks.History at 0x7f4fa51c7df0>"
            ]
          },
          "metadata": {},
          "execution_count": 64
        }
      ]
    },
    {
      "cell_type": "code",
      "source": [
        "import keras\n",
        "model = keras.models.load_model('/content/drive/MyDrive/Resnet50/Brain Dead/model_3(best)')\n",
        "model.summary()"
      ],
      "metadata": {
        "id": "FCTn_7BcjNY8"
      },
      "execution_count": null,
      "outputs": []
    },
    {
      "cell_type": "code",
      "source": [
        "model.save('/content/drive/MyDrive/Resnet50/Brain Dead/model_3(best)')"
      ],
      "metadata": {
        "id": "1iPjxq2HdImF"
      },
      "execution_count": null,
      "outputs": []
    },
    {
      "cell_type": "code",
      "source": [
        "model.evaluate(XTest, YTest)"
      ],
      "metadata": {
        "colab": {
          "base_uri": "https://localhost:8080/"
        },
        "id": "w6_6iDDNX_Op",
        "outputId": "d4121d50-6a7a-4bd9-8107-572608700cd7"
      },
      "execution_count": 65,
      "outputs": [
        {
          "output_type": "stream",
          "name": "stdout",
          "text": [
            "12/12 [==============================] - 1s 68ms/step - loss: 0.9258 - accuracy: 0.6992\n"
          ]
        },
        {
          "output_type": "execute_result",
          "data": {
            "text/plain": [
              "[0.9258378148078918, 0.6991869807243347]"
            ]
          },
          "metadata": {},
          "execution_count": 65
        }
      ]
    },
    {
      "cell_type": "code",
      "source": [
        "y_pred = model.predict(XTest)\n",
        "y_pred_classes = np.argmax(y_pred, axis=1)\n",
        "y_true = np.argmax(YTest, axis=1)"
      ],
      "metadata": {
        "id": "hN9NpnKS4Br8"
      },
      "execution_count": null,
      "outputs": []
    },
    {
      "cell_type": "code",
      "source": [
        "from sklearn.metrics import classification_report, confusion_matrix\n",
        "\n",
        "class_names = ['angry', 'sad', 'happy', 'neutral']\n",
        "print(\"CLASSIFICATION REPORT:\\n\\n\", classification_report(y_true, y_pred_classes, target_names=class_names))\n",
        "\n",
        "confusion_mtx = confusion_matrix(y_true, y_pred_classes)\n",
        "print(\"\\nCONFUSION MATRIX:\\n\\n\", confusion_mtx)"
      ],
      "metadata": {
        "colab": {
          "base_uri": "https://localhost:8080/"
        },
        "id": "sjw2PcmVteWU",
        "outputId": "4e3b5e6a-90b5-4478-df74-234fa0fb33a1"
      },
      "execution_count": 75,
      "outputs": [
        {
          "output_type": "stream",
          "name": "stdout",
          "text": [
            "CLASSIFICATION REPORT:\n",
            "\n",
            "               precision    recall  f1-score   support\n",
            "\n",
            "       angry       0.76      0.62      0.68        80\n",
            "         sad       0.68      0.73      0.71        82\n",
            "       happy       0.68      0.75      0.71       105\n",
            "     neutral       0.70      0.68      0.69       102\n",
            "\n",
            "    accuracy                           0.70       369\n",
            "   macro avg       0.70      0.70      0.70       369\n",
            "weighted avg       0.70      0.70      0.70       369\n",
            "\n",
            "\n",
            "CONFUSION MATRIX:\n",
            "\n",
            " [[50 18  6  6]\n",
            " [13 60  6  3]\n",
            " [ 0  6 79 20]\n",
            " [ 3  4 26 69]]\n"
          ]
        }
      ]
    }
  ],
  "metadata": {
    "colab": {
      "provenance": []
    },
    "gpuClass": "standard",
    "kernelspec": {
      "display_name": "Python 3",
      "name": "python3"
    },
    "language_info": {
      "name": "python"
    },
    "accelerator": "GPU"
  },
  "nbformat": 4,
  "nbformat_minor": 0
}